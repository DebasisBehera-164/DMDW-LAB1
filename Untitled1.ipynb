{
  "nbformat": 4,
  "nbformat_minor": 0,
  "metadata": {
    "colab": {
      "name": "Untitled1.ipynb",
      "provenance": [],
      "collapsed_sections": [],
      "authorship_tag": "ABX9TyMvxbq403YIPJQSReMdmbkq",
      "include_colab_link": true
    },
    "kernelspec": {
      "name": "python3",
      "display_name": "Python 3"
    }
  },
  "cells": [
    {
      "cell_type": "markdown",
      "metadata": {
        "id": "view-in-github",
        "colab_type": "text"
      },
      "source": [
        "<a href=\"https://colab.research.google.com/github/DebasisBehera-164/DMDW-LAB1/blob/main/Untitled1.ipynb\" target=\"_parent\"><img src=\"https://colab.research.google.com/assets/colab-badge.svg\" alt=\"Open In Colab\"/></a>"
      ]
    },
    {
      "cell_type": "code",
      "metadata": {
        "colab": {
          "base_uri": "https://localhost:8080/"
        },
        "id": "G7hZgAVOsxEw",
        "outputId": "5e1251bf-ab5c-43d0-8130-8a220b9d39aa"
      },
      "source": [
        "from collections import Counter\n",
        "data=[float(i)for i in input().split()]\n",
        "n=len(data)\n",
        "mean=sum(data)/n\n",
        "print(\"Mean = \" ,mean)\n",
        "#calculation of median\n",
        "temp=data.copy()\n",
        "temp=sorted(temp)\n",
        "if n%2!=0:\n",
        "  print(\"Median  = \" ,temp[n//2])\n",
        "else:\n",
        "  median=(temp[n//2]+temp[n//2+1])/2\n",
        "  print(\"Median = \" ,median)\n",
        "#calculation of mode\n",
        "count=Counter(data)\n",
        "maximum=max(count.items(),key= lambda x:x[1])[1]\n",
        "print(maximum)\n",
        "mode=[]\n",
        "for each in count.items():\n",
        "  if each[1]==maximum:\n",
        "    mode.append(each[0])\n",
        "    print(\"each[0] = \" ,each[0])\n",
        "if len(mode)==n:\n",
        "  print(\"Not found\")\n",
        "else:\n",
        "  print(\"Mode = \" ,mode)  "
      ],
      "execution_count": 10,
      "outputs": [
        {
          "output_type": "stream",
          "text": [
            "2 3 3 16 16 16 27 27 27 4 4 5 5 5\n",
            "Mean =  11.428571428571429\n",
            "Median =  10.5\n",
            "3\n",
            "each[0] =  16.0\n",
            "each[0] =  27.0\n",
            "each[0] =  5.0\n",
            "Mode =  [16.0, 27.0, 5.0]\n"
          ],
          "name": "stdout"
        }
      ]
    },
    {
      "cell_type": "code",
      "metadata": {
        "colab": {
          "base_uri": "https://localhost:8080/"
        },
        "id": "AGZ0RKxb0Etf",
        "outputId": "b3fd4492-762e-43a6-d37d-abde34bb2398"
      },
      "source": [
        "#calculation of variance\n",
        "data=[float(i) for i in input().split()]\n",
        "n=len(data)\n",
        "mean=sum(data)/n\n",
        "sum1=0\n",
        "for e in data:\n",
        "  sum1+=(e-mean)**2\n",
        "variance=sum1/n\n",
        "print('Variance = ' ,variance)\n",
        "#calculation of standard deviation\n",
        "std=variance**(0.5)\n",
        "print(\"Standard Deviation = \" ,std)"
      ],
      "execution_count": 8,
      "outputs": [
        {
          "output_type": "stream",
          "text": [
            "25 26 27 30 32\n",
            "Variance =  6.8\n",
            "Standard Deviation =  2.6076809620810595\n"
          ],
          "name": "stdout"
        }
      ]
    },
    {
      "cell_type": "code",
      "metadata": {
        "id": "Ef3GbA2QuJTc"
      },
      "source": [
        ""
      ],
      "execution_count": null,
      "outputs": []
    }
  ]
}